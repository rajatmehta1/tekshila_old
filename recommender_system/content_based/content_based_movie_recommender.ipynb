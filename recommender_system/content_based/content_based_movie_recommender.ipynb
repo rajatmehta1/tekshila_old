{
 "cells": [
  {
   "cell_type": "code",
   "execution_count": 1,
   "metadata": {},
   "outputs": [],
   "source": [
    "import findspark"
   ]
  },
  {
   "cell_type": "code",
   "execution_count": 2,
   "metadata": {},
   "outputs": [],
   "source": [
    "findspark.init()"
   ]
  },
  {
   "cell_type": "code",
   "execution_count": 3,
   "metadata": {},
   "outputs": [
    {
     "data": {
      "text/plain": [
       "'C:\\\\mystuff\\\\gatech\\\\project\\\\spark-2.4.1-bin-hadoop2.7'"
      ]
     },
     "execution_count": 3,
     "metadata": {},
     "output_type": "execute_result"
    }
   ],
   "source": [
    "findspark.find()"
   ]
  },
  {
   "cell_type": "code",
   "execution_count": 4,
   "metadata": {},
   "outputs": [],
   "source": [
    "import pyspark"
   ]
  },
  {
   "cell_type": "code",
   "execution_count": 5,
   "metadata": {},
   "outputs": [],
   "source": [
    "from pyspark import SparkContext"
   ]
  },
  {
   "cell_type": "code",
   "execution_count": 6,
   "metadata": {},
   "outputs": [],
   "source": [
    "from pyspark import SparkConf"
   ]
  },
  {
   "cell_type": "code",
   "execution_count": 7,
   "metadata": {},
   "outputs": [],
   "source": [
    "from pyspark.sql import SparkSession"
   ]
  },
  {
   "cell_type": "code",
   "execution_count": 8,
   "metadata": {},
   "outputs": [],
   "source": [
    "conf = pyspark.SparkConf().setAppName('appName').setMaster('local[*]')\n",
    "conf.set(\"spark.driver.memory\",\"2g\")\n",
    "conf.set(\"spark.executor.memory\",\"2g\")\n",
    "sc = pyspark.SparkContext(conf=conf)\n",
    "spark = SparkSession(sc)"
   ]
  },
  {
   "cell_type": "code",
   "execution_count": 9,
   "metadata": {},
   "outputs": [],
   "source": [
    "movies_raw_data = spark.read.option(\"header\",'true').csv(\"file:///C:/mystuff/courses/recommendation_engine/data/ml-latest-small/movies.csv\")\n",
    "ratings_raw_data = spark.read.option(\"header\",'true').csv(\"file:///C:/mystuff/courses/recommendation_engine/data/ml-latest-small/ratings.csv\")"
   ]
  },
  {
   "cell_type": "code",
   "execution_count": 10,
   "metadata": {},
   "outputs": [
    {
     "name": "stdout",
     "output_type": "stream",
     "text": [
      "+-------+--------------------+--------------------+\n",
      "|movieId|               title|              genres|\n",
      "+-------+--------------------+--------------------+\n",
      "|      1|    Toy Story (1995)|Adventure|Animati...|\n",
      "|      2|      Jumanji (1995)|Adventure|Childre...|\n",
      "|      3|Grumpier Old Men ...|      Comedy|Romance|\n",
      "|      4|Waiting to Exhale...|Comedy|Drama|Romance|\n",
      "|      5|Father of the Bri...|              Comedy|\n",
      "+-------+--------------------+--------------------+\n",
      "only showing top 5 rows\n",
      "\n"
     ]
    }
   ],
   "source": [
    "# movies_raw_data.cache()\n",
    "# movies_raw_data.cache()\n",
    "movies_raw_data.show(5)"
   ]
  },
  {
   "cell_type": "code",
   "execution_count": 13,
   "metadata": {
    "scrolled": true
   },
   "outputs": [],
   "source": [
    "# print(genres_vals)\n",
    "genres_dict = {}\n",
    "genres = ['unknown', 'Action', 'Adventure', 'Animation', 'Children', 'Comedy', 'Crime', 'Documentary', 'Drama', 'Fantasy', 'FilmNoir', 'Horror', 'Musical', 'Mystery', 'Romance', 'Sci-Fi', 'Thriller', 'War', 'Western']\n",
    "for i in range(len(genres)):\n",
    "    genres_dict[genres[i]] = i\n",
    "# genres_dict"
   ]
  },
  {
   "cell_type": "code",
   "execution_count": 14,
   "metadata": {},
   "outputs": [],
   "source": [
    "def fetchGenVals(m_genres):\n",
    "    genres_vals = [0]*19 \n",
    "    genres_lst = m_genres.split('|')\n",
    "    for v in genres_lst:\n",
    "        if v in genres_dict.keys():\n",
    "            genres_vals[int(genres_dict[v])] = 1\n",
    "        else:\n",
    "            genres_vals[0] = 1        \n",
    "    return genres_vals"
   ]
  },
  {
   "cell_type": "code",
   "execution_count": 15,
   "metadata": {},
   "outputs": [
    {
     "name": "stdout",
     "output_type": "stream",
     "text": [
      "[0, 1, 1, 0, 0, 0, 0, 0, 0, 0, 0, 0, 0, 0, 0, 0, 0, 0, 0]\n"
     ]
    }
   ],
   "source": [
    "print(fetchGenVals('Action|Adventure'))"
   ]
  },
  {
   "cell_type": "code",
   "execution_count": 16,
   "metadata": {},
   "outputs": [],
   "source": [
    "movies_data = movies_raw_data.rdd.map(lambda x : (x[0],x[1],x[2],fetchGenVals(x[2]))).toDF(['movie_id','title','genres','genre_vals'])"
   ]
  },
  {
   "cell_type": "code",
   "execution_count": 17,
   "metadata": {},
   "outputs": [
    {
     "name": "stdout",
     "output_type": "stream",
     "text": [
      "+--------+--------------------+--------------------+--------------------+\n",
      "|movie_id|               title|              genres|          genre_vals|\n",
      "+--------+--------------------+--------------------+--------------------+\n",
      "|       1|    Toy Story (1995)|Adventure|Animati...|[0, 0, 1, 1, 1, 1...|\n",
      "|       2|      Jumanji (1995)|Adventure|Childre...|[0, 0, 1, 0, 1, 0...|\n",
      "|       3|Grumpier Old Men ...|      Comedy|Romance|[0, 0, 0, 0, 0, 1...|\n",
      "|       4|Waiting to Exhale...|Comedy|Drama|Romance|[0, 0, 0, 0, 0, 1...|\n",
      "|       5|Father of the Bri...|              Comedy|[0, 0, 0, 0, 0, 1...|\n",
      "+--------+--------------------+--------------------+--------------------+\n",
      "only showing top 5 rows\n",
      "\n"
     ]
    }
   ],
   "source": [
    "movies_data.show(5)"
   ]
  },
  {
   "cell_type": "code",
   "execution_count": 18,
   "metadata": {},
   "outputs": [],
   "source": [
    "import math\n",
    "from scipy.spatial import distance\n",
    "\n",
    "def cosine_genre(genre1,genre2):\n",
    "    return str(distance.cosine(genre1,genre2))\n"
   ]
  },
  {
   "cell_type": "code",
   "execution_count": 19,
   "metadata": {},
   "outputs": [],
   "source": [
    "ratings_raw_data = ratings_raw_data.drop('timestamp').drop('userId').withColumn('rating',ratings_raw_data.rating.cast('double'))"
   ]
  },
  {
   "cell_type": "code",
   "execution_count": 20,
   "metadata": {},
   "outputs": [],
   "source": [
    "ratings_avg_data =  ratings_raw_data.groupby('movieId').avg('rating')"
   ]
  },
  {
   "cell_type": "code",
   "execution_count": 21,
   "metadata": {},
   "outputs": [],
   "source": [
    "ratings_data = ratings_avg_data[ratings_avg_data['avg(rating)'] > 3.8]"
   ]
  },
  {
   "cell_type": "code",
   "execution_count": 22,
   "metadata": {},
   "outputs": [
    {
     "name": "stdout",
     "output_type": "stream",
     "text": [
      "+-------+------------------+\n",
      "|movieId|       avg(rating)|\n",
      "+-------+------------------+\n",
      "|    296| 4.197068403908795|\n",
      "|   1090| 3.984126984126984|\n",
      "| 115713|3.9107142857142856|\n",
      "|  48738|             3.975|\n",
      "| 121007|               4.0|\n",
      "+-------+------------------+\n",
      "only showing top 5 rows\n",
      "\n"
     ]
    }
   ],
   "source": [
    "ratings_data.show(5)"
   ]
  },
  {
   "cell_type": "code",
   "execution_count": 23,
   "metadata": {},
   "outputs": [],
   "source": [
    "movies_rating_data = movies_data.join(ratings_data,movies_data.movie_id == ratings_data.movieId).drop(\"movieId\").withColumnRenamed('avg(rating)','rating')"
   ]
  },
  {
   "cell_type": "code",
   "execution_count": 24,
   "metadata": {},
   "outputs": [
    {
     "name": "stdout",
     "output_type": "stream",
     "text": [
      "+--------+-----------------+--------------------+--------------------+------------------+\n",
      "|movie_id|            title|              genres|          genre_vals|            rating|\n",
      "+--------+-----------------+--------------------+--------------------+------------------+\n",
      "|       1| Toy Story (1995)|Adventure|Animati...|[0, 0, 1, 1, 1, 1...|3.9209302325581397|\n",
      "|       6|      Heat (1995)|Action|Crime|Thri...|[0, 1, 0, 0, 0, 0...| 3.946078431372549|\n",
      "|      14|     Nixon (1995)|               Drama|[0, 0, 0, 0, 0, 0...|3.8333333333333335|\n",
      "|      16|    Casino (1995)|         Crime|Drama|[0, 0, 0, 0, 0, 0...| 3.926829268292683|\n",
      "|      28|Persuasion (1995)|       Drama|Romance|[0, 0, 0, 0, 0, 0...|4.2272727272727275|\n",
      "+--------+-----------------+--------------------+--------------------+------------------+\n",
      "only showing top 5 rows\n",
      "\n"
     ]
    }
   ],
   "source": [
    "movies_rating_data.show(5)"
   ]
  },
  {
   "cell_type": "code",
   "execution_count": 25,
   "metadata": {},
   "outputs": [],
   "source": [
    "movies_rating_data.createOrReplaceTempView(\"movies_rating_data\")\n",
    "m11 = spark.sql(\"select * from movies_rating_data where movie_id = 1\")\n",
    "m22 = spark.sql(\"select * from movies_rating_data where movie_id != 1\")"
   ]
  },
  {
   "cell_type": "code",
   "execution_count": 26,
   "metadata": {},
   "outputs": [],
   "source": [
    "m11.createOrReplaceTempView(\"m11\")\n",
    "m22.createOrReplaceTempView(\"m22\")"
   ]
  },
  {
   "cell_type": "code",
   "execution_count": 27,
   "metadata": {},
   "outputs": [],
   "source": [
    "combined_data_ds = spark.sql(\"select m1.movie_id,m1.title,m1.genre_vals,m1.rating,m2.movie_id,m2.title,m2.genre_vals,m2.rating from m11 m1, m22 m2 where m1.movie_id != m2.movie_id\")\n",
    "# combined_data_ds.cache()\n",
    "# combined_data_ds = combined_data_ds.coalesce(8)"
   ]
  },
  {
   "cell_type": "code",
   "execution_count": 28,
   "metadata": {},
   "outputs": [
    {
     "name": "stdout",
     "output_type": "stream",
     "text": [
      "+--------+----------------+--------------------+------------------+--------+--------------------+--------------------+------------------+\n",
      "|movie_id|           title|          genre_vals|            rating|movie_id|               title|          genre_vals|            rating|\n",
      "+--------+----------------+--------------------+------------------+--------+--------------------+--------------------+------------------+\n",
      "|       1|Toy Story (1995)|[0, 0, 1, 1, 1, 1...|3.9209302325581397|       6|         Heat (1995)|[0, 1, 0, 0, 0, 0...| 3.946078431372549|\n",
      "|       1|Toy Story (1995)|[0, 0, 1, 1, 1, 1...|3.9209302325581397|      14|        Nixon (1995)|[0, 0, 0, 0, 0, 0...|3.8333333333333335|\n",
      "|       1|Toy Story (1995)|[0, 0, 1, 1, 1, 1...|3.9209302325581397|      16|       Casino (1995)|[0, 0, 0, 0, 0, 0...| 3.926829268292683|\n",
      "|       1|Toy Story (1995)|[0, 0, 1, 1, 1, 1...|3.9209302325581397|      28|   Persuasion (1995)|[0, 0, 0, 0, 0, 0...|4.2272727272727275|\n",
      "|       1|Toy Story (1995)|[0, 0, 1, 1, 1, 1...|3.9209302325581397|      29|City of Lost Chil...|[0, 0, 1, 0, 0, 0...|4.0131578947368425|\n",
      "+--------+----------------+--------------------+------------------+--------+--------------------+--------------------+------------------+\n",
      "only showing top 5 rows\n",
      "\n"
     ]
    }
   ],
   "source": [
    "combined_data_ds.show(5)"
   ]
  },
  {
   "cell_type": "code",
   "execution_count": 29,
   "metadata": {},
   "outputs": [],
   "source": [
    "result = combined_data_ds.rdd.map(lambda x: (x[0],x[1],x[4],x[5],cosine_genre(x[2],x[6]),abs(x[3] - x[7]))).toDF(['id1','movie1','id2','movie2','similarity','rating_sim'])"
   ]
  },
  {
   "cell_type": "code",
   "execution_count": 31,
   "metadata": {},
   "outputs": [
    {
     "name": "stdout",
     "output_type": "stream",
     "text": [
      "+---+----------------+---+--------------------+----------+--------------------+\n",
      "|id1|          movie1|id2|              movie2|similarity|          rating_sim|\n",
      "+---+----------------+---+--------------------+----------+--------------------+\n",
      "|  1|Toy Story (1995)|  6|         Heat (1995)|       1.0| 0.02514819881440955|\n",
      "|  1|Toy Story (1995)| 14|        Nixon (1995)|       1.0| 0.08759689922480618|\n",
      "|  1|Toy Story (1995)| 16|       Casino (1995)|       1.0|0.005899035734543201|\n",
      "|  1|Toy Story (1995)| 28|   Persuasion (1995)|       1.0| 0.30634249471458785|\n",
      "|  1|Toy Story (1995)| 29|City of Lost Chil...|       0.6| 0.09222766217870282|\n",
      "+---+----------------+---+--------------------+----------+--------------------+\n",
      "only showing top 5 rows\n",
      "\n"
     ]
    }
   ],
   "source": [
    "result.show(5)"
   ]
  },
  {
   "cell_type": "code",
   "execution_count": 32,
   "metadata": {},
   "outputs": [
    {
     "name": "stdout",
     "output_type": "stream",
     "text": [
      "+---+----------------+------+--------------------+-------------------+--------------------+\n",
      "|id1|          movie1|   id2|              movie2|         similarity|          rating_sim|\n",
      "+---+----------------+------+--------------------+-------------------+--------------------+\n",
      "|  1|Toy Story (1995)|  4886|Monsters, Inc. (2...|                0.0|0.049718111346018556|\n",
      "|  1|Toy Story (1995)|  3114|  Toy Story 2 (1999)|                0.0| 0.06010549029009837|\n",
      "|  1|Toy Story (1995)| 91355|Asterix and the V...|                0.0|  1.0790697674418603|\n",
      "|  1|Toy Story (1995)|108932|The Lego Movie (2...|0.08712907082472321|0.049962490622655675|\n",
      "|  1|Toy Story (1995)|  4306|        Shrek (2001)|0.08712907082472321| 0.05328317373461022|\n",
      "|  1|Toy Story (1995)| 92348|Puss in Boots (Na...|0.08712907082472321| 0.07906976744186034|\n",
      "|  1|Toy Story (1995)|134853|   Inside Out (2015)|0.08712907082472321| 0.10697674418604652|\n",
      "|  1|Toy Story (1995)| 78499|  Toy Story 3 (2010)|0.08712907082472321|  0.1881606765327697|\n",
      "+---+----------------+------+--------------------+-------------------+--------------------+\n",
      "\n"
     ]
    }
   ],
   "source": [
    "result.filter(result['similarity'] < 0.1).orderBy(['similarity','rating_sim'],ascending=True).show(10)"
   ]
  },
  {
   "cell_type": "code",
   "execution_count": null,
   "metadata": {},
   "outputs": [],
   "source": []
  },
  {
   "cell_type": "code",
   "execution_count": null,
   "metadata": {},
   "outputs": [],
   "source": []
  },
  {
   "cell_type": "code",
   "execution_count": null,
   "metadata": {},
   "outputs": [],
   "source": []
  }
 ],
 "metadata": {
  "kernelspec": {
   "display_name": "Python 3",
   "language": "python",
   "name": "python3"
  },
  "language_info": {
   "codemirror_mode": {
    "name": "ipython",
    "version": 3
   },
   "file_extension": ".py",
   "mimetype": "text/x-python",
   "name": "python",
   "nbconvert_exporter": "python",
   "pygments_lexer": "ipython3",
   "version": "3.7.1"
  }
 },
 "nbformat": 4,
 "nbformat_minor": 2
}
